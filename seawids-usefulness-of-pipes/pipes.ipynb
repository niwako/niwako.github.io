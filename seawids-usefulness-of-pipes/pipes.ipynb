{
 "cells": [
  {
   "cell_type": "markdown",
   "metadata": {
    "slideshow": {
     "slide_type": "slide"
    },
    "tags": []
   },
   "source": [
    "# Usefulness of `.pipe()`\n",
    "\n",
    "Niwako Sugimura, Ph.D., Shad Sharma, Houda Aynaou"
   ]
  },
  {
   "cell_type": "markdown",
   "metadata": {
    "slideshow": {
     "slide_type": "notes"
    },
    "tags": []
   },
   "source": [
    "My name is Niwako, and I worked with Shad and Houda on this Datathon. Today, we’re going to talk about the `.pipe()` method, which we used to help keep our code tidy. "
   ]
  },
  {
   "cell_type": "markdown",
   "metadata": {
    "slideshow": {
     "slide_type": "slide"
    },
    "tags": []
   },
   "source": [
    "# Challenges in working on an ML project\n",
    "\n",
    "- Notebooks get messy with lots of data exploration and preprocessing\n",
    "- Can be hard to keep track of transformation applied to dataframe\n",
    "- Have to ensure that same sets of changes are applied to train, test, and unlabeled sets"
   ]
  },
  {
   "cell_type": "markdown",
   "metadata": {
    "slideshow": {
     "slide_type": "slide"
    },
    "tags": []
   },
   "source": [
    "# Definition\n",
    "\n",
    "```python\n",
    "DataFrame.pipe(func, *args, **kwargs)\n",
    "```\n",
    "\n",
    "- Takes a function whose first argument is the dataframe\n",
    "- Transforms the dataframe in some way\n",
    "- Returns the transformed dataframe"
   ]
  },
  {
   "cell_type": "code",
   "execution_count": null,
   "metadata": {},
   "outputs": [],
   "source": [
    "def func(df, args):\n",
    "    transformed_df = transform(df, args)\n",
    "    return transformed_df"
   ]
  },
  {
   "cell_type": "markdown",
   "metadata": {
    "tags": []
   },
   "source": [
    "## Usage"
   ]
  },
  {
   "cell_type": "code",
   "execution_count": null,
   "metadata": {},
   "outputs": [],
   "source": [
    "transformed_df = (\n",
    "    df.pipe(func, args)\n",
    "    .pipe(some_other_func, other_args)\n",
    "    .pipe(yet_another_func, yet_more_args)\n",
    ")"
   ]
  },
  {
   "cell_type": "markdown",
   "metadata": {
    "slideshow": {
     "slide_type": "slide"
    },
    "tags": []
   },
   "source": [
    "# Practical Example"
   ]
  },
  {
   "cell_type": "code",
   "execution_count": null,
   "metadata": {},
   "outputs": [],
   "source": [
    "FEATURES = [\"column 1\", \"column 2\", ...]\n",
    "\n",
    "\n",
    "def drop_non_features(df):\n",
    "    return df[FEATURES]"
   ]
  },
  {
   "cell_type": "markdown",
   "metadata": {
    "slideshow": {
     "slide_type": "slide"
    },
    "tags": []
   },
   "source": [
    "# Stateful functions for `.pipe()`"
   ]
  },
  {
   "cell_type": "code",
   "execution_count": null,
   "metadata": {},
   "outputs": [],
   "source": [
    "class NormalizeNumerical:\n",
    "    def __call__(self, df, is_train):\n",
    "        if is_train:\n",
    "            self.scaler = Normalizer()\n",
    "            self.scaler.fit(df[NUMERICAL_COLUMNS])\n",
    "\n",
    "        df = df.copy()\n",
    "        df[NUMERICAL_COLUMNS] = self.scaler.transform(df[NUMERICAL_COLUMNS])\n",
    "        return df\n",
    "\n",
    "\n",
    "normalize_numerical = NormalizeNumerical()"
   ]
  },
  {
   "cell_type": "code",
   "execution_count": null,
   "metadata": {},
   "outputs": [],
   "source": [
    "class StandardizeNumerical:\n",
    "    def __call__(self, df, is_train):\n",
    "        if is_train:\n",
    "            self.scaler = StandardScaler()\n",
    "            self.scaler.fit(df[NUMERICAL_COLUMNS])\n",
    "\n",
    "        df = df.copy()\n",
    "        df[NUMERICAL_COLUMNS] = self.scaler.transform(df[NUMERICAL_COLUMNS])\n",
    "        return df\n",
    "\n",
    "\n",
    "standardize_numerical = StandardizeNumerical()"
   ]
  },
  {
   "cell_type": "markdown",
   "metadata": {
    "slideshow": {
     "slide_type": "slide"
    },
    "tags": []
   },
   "source": [
    "# Fitting, Testing, and Predicting"
   ]
  },
  {
   "cell_type": "code",
   "execution_count": null,
   "metadata": {},
   "outputs": [],
   "source": [
    "def preprocess(df, is_train):\n",
    "    return (\n",
    "        df.pipe(drop_non_features)\n",
    "        # .pipe(normalize_numerical, is_train=is_train)\n",
    "        .pipe(standardize_numerical, is_train=is_train)\n",
    "    )"
   ]
  },
  {
   "cell_type": "markdown",
   "metadata": {},
   "source": [
    "## Fit"
   ]
  },
  {
   "cell_type": "code",
   "execution_count": null,
   "metadata": {},
   "outputs": [],
   "source": [
    "model = Model() # Using whatever model we want\n",
    "model.fit(X_train.pipe(preprocess, is_train=True), y_train)"
   ]
  },
  {
   "cell_type": "markdown",
   "metadata": {},
   "source": [
    "## Test"
   ]
  },
  {
   "cell_type": "code",
   "execution_count": null,
   "metadata": {},
   "outputs": [],
   "source": [
    "model.score(X_test.pipe(preprocess, is_train=False), y_test)"
   ]
  },
  {
   "cell_type": "markdown",
   "metadata": {},
   "source": [
    "## Predict"
   ]
  },
  {
   "cell_type": "code",
   "execution_count": null,
   "metadata": {},
   "outputs": [],
   "source": [
    "y_unlabeled = model.predict(X_unlabeled.pipe(preprocess, is_train=False))"
   ]
  },
  {
   "cell_type": "markdown",
   "metadata": {
    "slideshow": {
     "slide_type": "slide"
    },
    "tags": []
   },
   "source": [
    "# Example from our notebook for the Datathon"
   ]
  },
  {
   "cell_type": "code",
   "execution_count": null,
   "metadata": {},
   "outputs": [],
   "source": [
    "def preprocess(df, is_train):\n",
    "    return (\n",
    "        df.pipe(drop_non_features)\n",
    "        # .pipe(normalize_numerical, is_train=is_train)\n",
    "        .pipe(standardize_numerical, is_train=is_train)\n",
    "        # .pipe(replace_missing_numerical, fill=-999)\n",
    "        .pipe(impute_missing_numerical, is_train=is_train)\n",
    "        .pipe(onehot_encode_categorical, is_train=is_train)\n",
    "    )"
   ]
  },
  {
   "cell_type": "markdown",
   "metadata": {
    "tags": []
   },
   "source": [
    "## Benefits of using `.pipe()`\n",
    "\n",
    "- Keep the original dataframe intact,\n",
    "- Easily select and switch around pre-processing steps,\n",
    "- Try different classifiers more easily."
   ]
  },
  {
   "cell_type": "markdown",
   "metadata": {
    "slideshow": {
     "slide_type": "subslide"
    },
    "tags": []
   },
   "source": [
    "# How is this different from just using functions?"
   ]
  },
  {
   "cell_type": "markdown",
   "metadata": {},
   "source": [
    "The main difference is that you either need to use a temporary variable:"
   ]
  },
  {
   "cell_type": "code",
   "execution_count": null,
   "metadata": {},
   "outputs": [],
   "source": [
    "def preprocess(df, is_train):\n",
    "    tdf = df.copy()\n",
    "    tdf = drop_non_features(tdf)\n",
    "    # tdf = normalize_numerical(tdf, is_train=is_train)\n",
    "    tdf = standardize_numerical(tdf, is_train=is_train)\n",
    "    # tdf = replace_missing_numerical(tdf, fill=-999)\n",
    "    tdf = impute_missing_numerical(tdf, is_train=is_train)\n",
    "    tdf = onehot_encode_categorical(tdf, is_train=is_train)\n",
    "    return tdf"
   ]
  },
  {
   "cell_type": "markdown",
   "metadata": {},
   "source": [
    "Or you have some ugly function chaining:"
   ]
  },
  {
   "cell_type": "code",
   "execution_count": null,
   "metadata": {},
   "outputs": [],
   "source": [
    "def preprocess(df, is_train):\n",
    "    return onehot_encode_categorical(\n",
    "        impute_missing_numerical(\n",
    "            standardize_numerical(drop_non_features(df), is_train=is_train),\n",
    "            is_train=is_train,\n",
    "        ),\n",
    "        is_train=is_train,\n",
    "    )"
   ]
  }
 ],
 "metadata": {
  "kernelspec": {
   "display_name": "Python 3",
   "language": "python",
   "name": "python3"
  },
  "language_info": {
   "codemirror_mode": {
    "name": "ipython",
    "version": 3
   },
   "file_extension": ".py",
   "mimetype": "text/x-python",
   "name": "python",
   "nbconvert_exporter": "python",
   "pygments_lexer": "ipython3",
   "version": "3.9.4"
  }
 },
 "nbformat": 4,
 "nbformat_minor": 4
}
